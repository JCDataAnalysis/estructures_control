{
 "cells": [
  {
   "cell_type": "markdown",
   "id": "190c88f1",
   "metadata": {},
   "source": [
    "#### 1. L'exercici consisteix a crear una funció que et classifiqui una variable numèrica en funció de l’escala Suspès/Aprovat/Notable/Excel·lent.\n",
    "Recorda que Suspès < 5, Aprovat > 5 i < 7, Notable > 7 i < 9 i Excel·lent > 9."
   ]
  },
  {
   "cell_type": "code",
   "execution_count": 11,
   "id": "3c07250b",
   "metadata": {},
   "outputs": [
    {
     "name": "stdout",
     "output_type": "stream",
     "text": [
      "Suspès\n"
     ]
    }
   ],
   "source": [
    "def classificador_nota(x):\n",
    "    if x < 5:\n",
    "        print('Suspès')\n",
    "    elif x < 7:\n",
    "        print('Aprovat')\n",
    "    elif x < 9:\n",
    "        print('Notable')\n",
    "    else:\n",
    "        print('Excel·lent')\n",
    "\n",
    "classificador_nota(4)"
   ]
  },
  {
   "cell_type": "markdown",
   "id": "388c7b1b",
   "metadata": {},
   "source": [
    "#### 2. Utilitzant el següent tutorial crea una funció que et pregunti dos números. T’ha de mostrar un missatge dient si el primer és més gran, el segon és més gran o són iguals."
   ]
  },
  {
   "cell_type": "code",
   "execution_count": 5,
   "id": "904b2a99",
   "metadata": {},
   "outputs": [
    {
     "name": "stdout",
     "output_type": "stream",
     "text": [
      "El primer número és més gran.\n"
     ]
    }
   ],
   "source": [
    "def comparador_nums(x,y):\n",
    "    if x > y:\n",
    "        print('El primer número és més gran.')\n",
    "    elif y > x:\n",
    "        print('El segon número és més gran.')\n",
    "    else:\n",
    "        print('Els dos nombres són iguals.')\n",
    "\n",
    "comparador_nums(7,6)"
   ]
  },
  {
   "cell_type": "markdown",
   "id": "5ddf244b",
   "metadata": {},
   "source": [
    "#### 3. Crea una funció que et pregunti el teu nom, i et demani un número. Si el número és 0, hauria de mostrar un missatge d’error. En cas contrari, hauria de mostrar el nom repetit tants cops com indiqui el número. Per exemple, “Joan Joan Joan”."
   ]
  },
  {
   "cell_type": "code",
   "execution_count": 7,
   "id": "a77e9a42",
   "metadata": {},
   "outputs": [
    {
     "name": "stdout",
     "output_type": "stream",
     "text": [
      "Insereix el teu nom: Júlia\n",
      "Insereix un número: 5\n",
      "Júlia Júlia Júlia Júlia Júlia \n"
     ]
    }
   ],
   "source": [
    "def nom_num():\n",
    "    nom = input('Insereix el teu nom: ')\n",
    "    numero = int(input('Insereix un número: '))\n",
    "    \n",
    "    if numero == 0:\n",
    "        print('Hi ha hagut un error. Introdueix un número.')\n",
    "    else:\n",
    "        print((nom + ' ') * numero)\n",
    "\n",
    "nom_num()"
   ]
  },
  {
   "cell_type": "markdown",
   "id": "0f1c8e91",
   "metadata": {},
   "source": [
    "#### 4. Crea una funció que donada una llista qualsevol, et digui si és simètrica o no. Si ho és, que et digui quants elements té."
   ]
  },
  {
   "cell_type": "code",
   "execution_count": 8,
   "id": "26b6ad2f",
   "metadata": {},
   "outputs": [
    {
     "name": "stdout",
     "output_type": "stream",
     "text": [
      "La llista és simètrica.\n"
     ]
    }
   ],
   "source": [
    "def es_simetrica(llista):\n",
    "    if llista == llista[::-1]:\n",
    "        print('La llista és simètrica.')\n",
    "    else:\n",
    "        print('La llista té', len(llista), 'elements.')   \n",
    "\n",
    "llista = [1, 2, 3, 3, 2, 1]\n",
    "es_simetrica(llista)"
   ]
  },
  {
   "cell_type": "markdown",
   "id": "bdcf3281",
   "metadata": {},
   "source": [
    "#### 5. Crea una funció que donada una llista, et digui quants números coincideixen amb la seva posició. Per exemple [3,4,2,0,2,3,6] el 2 i el 6 coincideixen."
   ]
  },
  {
   "cell_type": "code",
   "execution_count": 10,
   "id": "57233a67",
   "metadata": {},
   "outputs": [
    {
     "name": "stdout",
     "output_type": "stream",
     "text": [
      "En aquesta llista hi ha 2 números que coincideixen amb la seva posició\n"
     ]
    }
   ],
   "source": [
    "def num_igual_posicio(llista):\n",
    "    coincidents = 0\n",
    "    \n",
    "    for i, num in enumerate(llista):\n",
    "        if i == num:\n",
    "            coincidents +=1\n",
    "    \n",
    "    return coincidents\n",
    "\n",
    "llista = [7, 1, 5, 3, 8, 2]\n",
    "coincidents = num_igual_posicio(llista)\n",
    "\n",
    "print(f'En aquesta llista hi ha {coincidents} números que coincideixen amb la seva posició')"
   ]
  }
 ],
 "metadata": {
  "kernelspec": {
   "display_name": "Python 3 (ipykernel)",
   "language": "python",
   "name": "python3"
  },
  "language_info": {
   "codemirror_mode": {
    "name": "ipython",
    "version": 3
   },
   "file_extension": ".py",
   "mimetype": "text/x-python",
   "name": "python",
   "nbconvert_exporter": "python",
   "pygments_lexer": "ipython3",
   "version": "3.10.9"
  }
 },
 "nbformat": 4,
 "nbformat_minor": 5
}
